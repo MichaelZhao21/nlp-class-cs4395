{
 "cells": [
  {
   "cell_type": "code",
   "execution_count": 1,
   "metadata": {},
   "outputs": [],
   "source": [
    "import matplotlib.pyplot as plt\n",
    "import pandas as pd\n",
    "from sklearn.feature_extraction.text import TfidfVectorizer\n",
    "from sklearn.model_selection import train_test_split\n",
    "from sklearn.feature_extraction.text import TfidfVectorizer\n",
    "from sklearn.feature_extraction.text import TfidfTransformer\n",
    "from sklearn.feature_extraction.text import CountVectorizer\n",
    "from sklearn.pipeline import Pipeline\n",
    "from sklearn.naive_bayes import MultinomialNB\n",
    "from sklearn.linear_model import LogisticRegression\n",
    "from sklearn.neural_network import MLPClassifier\n",
    "from sklearn.metrics import accuracy_score"
   ]
  },
  {
   "cell_type": "code",
   "execution_count": 2,
   "metadata": {},
   "outputs": [],
   "source": [
    "# Switch to y-1000.csv for a smaller dataset\n",
    "DF_NAME = 'y-100000.csv'"
   ]
  },
  {
   "cell_type": "code",
   "execution_count": 4,
   "metadata": {},
   "outputs": [],
   "source": [
    "# Import DataFrame from CSV\n",
    "df = pd.read_csv(DF_NAME)\n",
    "\n",
    "# Set the column names\n",
    "df = df.set_axis(['s', 'text'], axis=1)"
   ]
  },
  {
   "cell_type": "code",
   "execution_count": 5,
   "metadata": {},
   "outputs": [
    {
     "data": {
      "image/png": "[encoded data removed]",
      "text/plain": [
       "<Figure size 640x480 with 1 Axes>"
      ]
     },
     "metadata": {},
     "output_type": "display_data"
    }
   ],
   "source": [
    "# Get the counts of each sentiment label\n",
    "sentiment_counts = df['s'].value_counts()\n",
    "\n",
    "# Create a bar chart with custom x-axis labels\n",
    "plt.bar(['Negative', 'Positive'], sentiment_counts.values,\n",
    "        tick_label=['Negative', 'Positive'])\n",
    "\n",
    "# Add axis labels and title\n",
    "plt.xlabel('Sentiment Label')\n",
    "plt.ylabel('Number of Texts')\n",
    "plt.title('Distribution of Sentiment Labels in Yelp Reviews')\n",
    "\n",
    "# Display the chart\n",
    "plt.show()"
   ]
  },
  {
   "attachments": {},
   "cell_type": "markdown",
   "metadata": {},
   "source": [
    "The dataset consists of a collection of text data along with their corresponding sentiment labels. The first column represents the sentiment labels, where 1 indicates a negative sentiment and 2 indicates a positive sentiment. The second column contains the Yelp reviews in the form of strings. "
   ]
  },
  {
   "cell_type": "code",
   "execution_count": 6,
   "metadata": {},
   "outputs": [],
   "source": [
    "# Split the test data\n",
    "X = df['text']\n",
    "y = df['s']\n",
    "X_train, X_test, y_train, y_test = train_test_split(\n",
    "    X, y, test_size=0.1, train_size=0.9, random_state=1234)"
   ]
  },
  {
   "cell_type": "code",
   "execution_count": 7,
   "metadata": {},
   "outputs": [
    {
     "name": "stdout",
     "output_type": "stream",
     "text": [
      "Performaing Multinomial Naive Bayes...\n",
      "\tMultinomial Naive Bayes Accuracy: 0.8712\n"
     ]
    }
   ],
   "source": [
    "# Perform Multinoial Naive Bayes\n",
    "print('Performaing Multinomial Naive Bayes...')\n",
    "mnb_pipe = Pipeline([('vect', CountVectorizer()),\n",
    "                     ('tfidf', TfidfTransformer()),\n",
    "                     ('mnb', MultinomialNB())\n",
    "                     ])\n",
    "mnb = mnb_pipe.fit(X_train, y_train)\n",
    "print(\"\\tMultinomial Naive Bayes Accuracy:\", accuracy_score(mnb.predict(X_test), y_test))"
   ]
  },
  {
   "cell_type": "code",
   "execution_count": 8,
   "metadata": {},
   "outputs": [
    {
     "name": "stdout",
     "output_type": "stream",
     "text": [
      "Performaing Logistic Regression...\n"
     ]
    },
    {
     "name": "stderr",
     "output_type": "stream",
     "text": [
      "/home/mikey/code/nlp-class-cs4395/src/hw7/venv/lib/python3.10/site-packages/sklearn/linear_model/_logistic.py:458: ConvergenceWarning: lbfgs failed to converge (status=1):\n",
      "STOP: TOTAL NO. of ITERATIONS REACHED LIMIT.\n",
      "\n",
      "Increase the number of iterations (max_iter) or scale the data as shown in:\n",
      "    https://scikit-learn.org/stable/modules/preprocessing.html\n",
      "Please also refer to the documentation for alternative solver options:\n",
      "    https://scikit-learn.org/stable/modules/linear_model.html#logistic-regression\n",
      "  n_iter_i = _check_optimize_result(\n"
     ]
    },
    {
     "name": "stdout",
     "output_type": "stream",
     "text": [
      "\tLogistic Regression Accuracy: 0.9124\n"
     ]
    }
   ],
   "source": [
    "# Perform Logistic Regression\n",
    "print('Performaing Logistic Regression...')\n",
    "lgr_pipe = Pipeline([('vect', CountVectorizer()),\n",
    "                     ('tfidf', TfidfTransformer()),\n",
    "                     ('clf', LogisticRegression(n_jobs=1, C=1e5)),\n",
    "                     ])\n",
    "lgr = lgr_pipe.fit(X_train, y_train)\n",
    "print(\"\\tLogistic Regression Accuracy:\", accuracy_score(lgr.predict(X_test), y_test))"
   ]
  },
  {
   "cell_type": "code",
   "execution_count": 9,
   "metadata": {},
   "outputs": [
    {
     "name": "stdout",
     "output_type": "stream",
     "text": [
      "Performaing MLP Classifier...\n"
     ]
    },
    {
     "name": "stderr",
     "output_type": "stream",
     "text": [
      "/home/mikey/code/nlp-class-cs4395/src/hw7/venv/lib/python3.10/site-packages/sklearn/neural_network/_multilayer_perceptron.py:541: ConvergenceWarning: lbfgs failed to converge (status=1):\n",
      "STOP: TOTAL NO. of ITERATIONS REACHED LIMIT.\n",
      "\n",
      "Increase the number of iterations (max_iter) or scale the data as shown in:\n",
      "    https://scikit-learn.org/stable/modules/preprocessing.html\n",
      "  self.n_iter_ = _check_optimize_result(\"lbfgs\", opt_res, self.max_iter)\n"
     ]
    },
    {
     "name": "stdout",
     "output_type": "stream",
     "text": [
      "\tMLP Classifier Accuracy: 0.9179\n"
     ]
    }
   ],
   "source": [
    "# Perform MLP Classifier\n",
    "print('Performaing MLP Classifier...')\n",
    "mlp_pipe = Pipeline([\n",
    "    ('tfidf', TfidfVectorizer()),\n",
    "    ('neuralnet', MLPClassifier(solver='lbfgs', alpha=1e-5,\n",
    "                                hidden_layer_sizes=(15, 7), random_state=1)),\n",
    "])\n",
    "mlp = mlp_pipe.fit(X_train, y_train)\n",
    "print(\"\\tMLP Classifier Accuracy:\", accuracy_score(mlp.predict(X_test), y_test))"
   ]
  },
  {
   "attachments": {},
   "cell_type": "markdown",
   "metadata": {},
   "source": [
    "# Naïve Bayes\n",
    "\n",
    "Naïve Bayes is a simple and effective algorithm for text classification. It is based on Bayes' theorem, which describes the probability of an event based on prior knowledge. Naïve Bayes assumes that the features are independent of each other, which is not always true in the case of text classification. Despite this limitation, Naïve Bayes can still perform well in certain situations, especially when the dataset is small. In general, Naïve Bayes is faster and requires less training data than other algorithms.\n",
    "\n",
    "# Logistic Regression\n",
    "\n",
    "Logistic Regression is a statistical algorithm used for binary classification. It models the probability of a binary outcome based on one or more independent variables. In text classification, each word in the document is treated as an independent variable. Logistic Regression is a good choice when the number of features is small, and the dataset is large. It is also easy to interpret the results of Logistic Regression.\n",
    "\n",
    "# Neural Networks\n",
    "\n",
    "The MLP Classifier is a powerful NN algorithm for text classification. It is composed of multiple layers of interconnected nodes, which can capture complex patterns in the data. Neural Networks require a large amount of training data and computing power. However, they can achieve high accuracy if they are trained properly. In addition, Neural Networks can handle large datasets with a large number of features.\n",
    "\n",
    "# Performance Evaluation\n",
    "Naïve Bayes is the fastest, followed by Logistic Regression then Neural Networks. Although Logistics Regression and Neural Networks both performed significantly better than Naïve Bayes, it definitely suffered when I added a larger dataset. Logistic Regression is great for this case because it runs in a short amount of time and is able to generate a high accuracy result due to only having 2 text classes. The benefit of using the neural network was minimal compared to the almost 5x of runtime that it took."
   ]
  }
 ],
 "metadata": {
  "kernelspec": {
   "display_name": "venv",
   "language": "python",
   "name": "python3"
  },
  "language_info": {
   "codemirror_mode": {
    "name": "ipython",
    "version": 3
   },
   "file_extension": ".py",
   "mimetype": "text/x-python",
   "name": "python",
   "nbconvert_exporter": "python",
   "pygments_lexer": "ipython3",
   "version": "3.10.9"
  },
  "orig_nbformat": 4
 },
 "nbformat": 4,
 "nbformat_minor": 2
}
